{
 "cells": [
  {
   "cell_type": "code",
   "execution_count": 1,
   "metadata": {
    "collapsed": false
   },
   "outputs": [],
   "source": [
    "from collections import Counter\n",
    "import numpy as np\n",
    "from scipy import sparse\n",
    "import itertools\n",
    "from random import shuffle\n",
    "from math import log"
   ]
  },
  {
   "cell_type": "code",
   "execution_count": 2,
   "metadata": {
    "collapsed": true
   },
   "outputs": [],
   "source": [
    "corpus = ('''Lionel Messi born 24 June 1987 is an Argentine professional footballer who plays as a forward for \n",
    "Spanish club Barcelona and the Argentine national team. Often considered the best player in the world and regarded\n",
    "by many as the greatest of all time, Messi has a record-tying five Ballon d'Or awards,four of which he won \n",
    "consecutively, and a record five European Golden Shoes. He has spent his entire professional career with Barcelona, \n",
    "where he has won 32 trophies, including nine La Liga titles, four UEFA Champions League titles, and six Copas \n",
    "del Rey. Both a prolific goalscorer and a creative playmaker, Messi holds the records for most official goals \n",
    "scored in La Liga (383), a La Liga season (50), a club football season in Europe (73), a calendar year (91), \n",
    "El Clásico (26), as well as those for most assists in La Liga (149) and the Copa América (11). He has scored over \n",
    "600 senior career goals for club and country.\n",
    "\n",
    "Born and raised in central Argentina, Messi was diagnosed with a growth hormone deficiency as a child. At age 13, \n",
    "he relocated to Spain to join Barcelona, who agreed to pay for his medical treatment. After a fast progression \n",
    "through Barcelona's youth academy, Messi made his competitive debut aged 17 in October 2004. Despite being \n",
    "injury-prone during his early career, he established himself as an integral player for the club within the next \n",
    "three years, finishing 2007 as a finalist for both the Ballon d'Or and FIFA World Player of the Year award, a feat \n",
    "he repeated the following year. His first uninterrupted campaign came in the 2008–09 season, during which he helped \n",
    "Barcelona achieve the first treble in Spanish football. At 22 years old, Messi won the Ballon d'Or and FIFA World \n",
    "Player of the Year award by record voting margins.\n",
    "\n",
    "Three successful seasons followed, with Messi winning three consecutive FIFA Ballons d'Or, including an \n",
    "unprecedented fourth. His best campaign statistically to date was the 2011–12 season, in which he set the La Liga \n",
    "and European records for most goals scored in a single season, while establishing himself as Barcelona's all-time \n",
    "top scorer in official competitions in March 2012. The following two seasons, Messi finished twice second for the \n",
    "Ballon d'Or behind Cristiano Ronaldo, his perceived career rival. Messi regained his best form during the 2014–15 \n",
    "campaign, breaking the all-time goalscoring records in both La Liga and the Champions League in November 2014,\n",
    "[note 3] and led Barcelona to a historic second treble.\n",
    "\n",
    "An Argentine international, Messi is his country's all-time leading goalscorer. At youth level, he won the 2005 \n",
    "FIFA World Youth Championship, finishing the tournament with both the Golden Ball and Golden Shoe, and an Olympic \n",
    "gold medal at the 2008 Summer Olympics. His style of play as a diminutive, left-footed dribbler drew comparisons \n",
    "with compatriot Diego Maradona, who declared the teenager his successor. After making his senior debut in August \n",
    "2005, Messi became the youngest Argentine to play and score in a FIFA World Cup during the 2006 edition, and reached\n",
    "the final of the 2007 Copa América, where he was named young player of the tournament. As the squad's captain from \n",
    "August 2011, he led Argentina to three consecutive finals: the 2014 World Cup, for which he won the Golden Ball, \n",
    "and the 2015 and 2016 Copas América. After announcing his international retirement in 2016, he reversed his \n",
    "decision and led his country to qualification for the 2018 World Cup.''').split(\"\\n\")"
   ]
  },
  {
   "cell_type": "code",
   "execution_count": 3,
   "metadata": {
    "collapsed": false
   },
   "outputs": [],
   "source": [
    "def build_vocab(corpus):\n",
    "    \n",
    "    vocab = Counter()\n",
    "    for line in corpus:\n",
    "        tokens = line.strip().split()\n",
    "        vocab.update(tokens)\n",
    "\n",
    "    return {word: (i, freq) for i, (word, freq) in enumerate(vocab.items())}"
   ]
  },
  {
   "cell_type": "code",
   "execution_count": 4,
   "metadata": {
    "collapsed": false
   },
   "outputs": [
    {
     "data": {
      "text/plain": [
       "{'(11).': (49, 1),\n",
       " '(149)': (0, 1),\n",
       " '(26),': (284, 1),\n",
       " '(383),': (197, 1),\n",
       " '(50),': (235, 1),\n",
       " '(73),': (133, 1),\n",
       " '(91),': (70, 1),\n",
       " '13,': (151, 1),\n",
       " '17': (247, 1),\n",
       " '1987': (191, 1),\n",
       " '2004.': (23, 1),\n",
       " '2005': (165, 1),\n",
       " '2005,': (140, 1),\n",
       " '2006': (183, 1),\n",
       " '2007': (134, 2),\n",
       " '2008': (258, 1),\n",
       " '2008–09': (68, 1),\n",
       " '2011,': (282, 1),\n",
       " '2011–12': (167, 1),\n",
       " '2012.': (27, 1),\n",
       " '2014': (119, 1),\n",
       " '2014,': (85, 1),\n",
       " '2014–15': (269, 1),\n",
       " '2015': (238, 1),\n",
       " '2016': (279, 1),\n",
       " '2016,': (254, 1),\n",
       " '2018': (287, 1),\n",
       " '22': (137, 1),\n",
       " '24': (84, 1),\n",
       " '32': (100, 1),\n",
       " '3]': (169, 1),\n",
       " '600': (276, 1),\n",
       " 'After': (123, 3),\n",
       " 'América': (47, 1),\n",
       " 'América,': (250, 1),\n",
       " 'América.': (83, 1),\n",
       " 'An': (97, 1),\n",
       " 'Argentina': (257, 1),\n",
       " 'Argentina,': (189, 1),\n",
       " 'Argentine': (201, 4),\n",
       " 'As': (30, 1),\n",
       " 'At': (125, 3),\n",
       " 'August': (207, 2),\n",
       " 'Ball': (299, 1),\n",
       " 'Ball,': (256, 1),\n",
       " 'Ballon': (224, 4),\n",
       " 'Ballons': (86, 1),\n",
       " 'Barcelona': (112, 3),\n",
       " \"Barcelona's\": (79, 2),\n",
       " 'Barcelona,': (154, 2),\n",
       " 'Born': (273, 1),\n",
       " 'Both': (17, 1),\n",
       " 'Champions': (236, 2),\n",
       " 'Championship,': (172, 1),\n",
       " 'Clásico': (155, 1),\n",
       " 'Copa': (73, 2),\n",
       " 'Copas': (35, 2),\n",
       " 'Cristiano': (15, 1),\n",
       " 'Cup': (28, 1),\n",
       " 'Cup,': (130, 1),\n",
       " 'Cup.': (288, 1),\n",
       " 'Despite': (266, 1),\n",
       " 'Diego': (26, 1),\n",
       " 'El': (237, 1),\n",
       " 'Europe': (211, 1),\n",
       " 'European': (82, 2),\n",
       " 'FIFA': (302, 5),\n",
       " 'Golden': (192, 4),\n",
       " 'He': (142, 2),\n",
       " 'His': (186, 3),\n",
       " 'June': (176, 1),\n",
       " 'La': (204, 6),\n",
       " 'League': (181, 2),\n",
       " 'Liga': (21, 6),\n",
       " 'Lionel': (149, 1),\n",
       " 'Maradona,': (108, 1),\n",
       " 'March': (126, 1),\n",
       " 'Messi': (291, 11),\n",
       " 'November': (174, 1),\n",
       " 'October': (122, 1),\n",
       " 'Often': (213, 1),\n",
       " 'Olympic': (198, 1),\n",
       " 'Olympics.': (220, 1),\n",
       " 'Player': (228, 2),\n",
       " 'Rey.': (42, 1),\n",
       " 'Ronaldo,': (199, 1),\n",
       " 'Shoe,': (16, 1),\n",
       " 'Shoes.': (263, 1),\n",
       " 'Spain': (251, 1),\n",
       " 'Spanish': (248, 2),\n",
       " 'Summer': (215, 1),\n",
       " 'The': (278, 1),\n",
       " 'Three': (136, 1),\n",
       " 'UEFA': (202, 1),\n",
       " 'World': (209, 6),\n",
       " 'Year': (111, 2),\n",
       " 'Youth': (43, 1),\n",
       " '[note': (232, 1),\n",
       " 'a': (13, 17),\n",
       " 'academy,': (152, 1),\n",
       " 'achieve': (212, 1),\n",
       " 'age': (290, 1),\n",
       " 'aged': (95, 1),\n",
       " 'agreed': (161, 1),\n",
       " 'all': (105, 1),\n",
       " 'all-time': (227, 3),\n",
       " 'an': (92, 4),\n",
       " 'and': (36, 20),\n",
       " 'announcing': (37, 1),\n",
       " 'as': (187, 9),\n",
       " 'assists': (53, 1),\n",
       " 'at': (132, 1),\n",
       " 'award': (145, 1),\n",
       " 'award,': (243, 1),\n",
       " 'awards,four': (94, 1),\n",
       " 'became': (147, 1),\n",
       " 'behind': (81, 1),\n",
       " 'being': (61, 1),\n",
       " 'best': (1, 3),\n",
       " 'born': (6, 1),\n",
       " 'both': (193, 3),\n",
       " 'breaking': (66, 1),\n",
       " 'by': (120, 2),\n",
       " 'calendar': (239, 1),\n",
       " 'came': (4, 1),\n",
       " 'campaign': (280, 2),\n",
       " 'campaign,': (283, 1),\n",
       " 'captain': (182, 1),\n",
       " 'career': (67, 3),\n",
       " 'career,': (22, 1),\n",
       " 'central': (64, 1),\n",
       " 'child.': (80, 1),\n",
       " 'club': (219, 4),\n",
       " 'comparisons': (29, 1),\n",
       " 'compatriot': (139, 1),\n",
       " 'competitions': (277, 1),\n",
       " 'competitive': (115, 1),\n",
       " 'consecutive': (216, 2),\n",
       " 'consecutively,': (25, 1),\n",
       " 'considered': (175, 1),\n",
       " 'country': (185, 1),\n",
       " \"country's\": (19, 1),\n",
       " 'country.': (31, 1),\n",
       " 'creative': (52, 1),\n",
       " \"d'Or\": (77, 4),\n",
       " \"d'Or,\": (203, 1),\n",
       " 'date': (59, 1),\n",
       " 'debut': (230, 2),\n",
       " 'decision': (252, 1),\n",
       " 'declared': (208, 1),\n",
       " 'deficiency': (156, 1),\n",
       " 'del': (190, 1),\n",
       " 'diagnosed': (294, 1),\n",
       " 'diminutive,': (265, 1),\n",
       " 'drew': (46, 1),\n",
       " 'dribbler': (159, 1),\n",
       " 'during': (39, 4),\n",
       " 'early': (103, 1),\n",
       " 'edition,': (98, 1),\n",
       " 'entire': (60, 1),\n",
       " 'established': (131, 1),\n",
       " 'establishing': (162, 1),\n",
       " 'fast': (272, 1),\n",
       " 'feat': (11, 1),\n",
       " 'final': (144, 1),\n",
       " 'finalist': (170, 1),\n",
       " 'finals:': (194, 1),\n",
       " 'finished': (56, 1),\n",
       " 'finishing': (166, 2),\n",
       " 'first': (150, 2),\n",
       " 'five': (3, 2),\n",
       " 'followed,': (63, 1),\n",
       " 'following': (271, 2),\n",
       " 'football': (143, 1),\n",
       " 'football.': (104, 1),\n",
       " 'footballer': (33, 1),\n",
       " 'for': (298, 11),\n",
       " 'form': (34, 1),\n",
       " 'forward': (222, 1),\n",
       " 'four': (138, 1),\n",
       " 'fourth.': (234, 1),\n",
       " 'from': (110, 1),\n",
       " 'goals': (229, 3),\n",
       " 'goalscorer': (90, 1),\n",
       " 'goalscorer.': (301, 1),\n",
       " 'goalscoring': (8, 1),\n",
       " 'gold': (233, 1),\n",
       " 'greatest': (177, 1),\n",
       " 'growth': (274, 1),\n",
       " 'has': (40, 4),\n",
       " 'he': (71, 12),\n",
       " 'helped': (9, 1),\n",
       " 'himself': (226, 2),\n",
       " 'his': (242, 12),\n",
       " 'historic': (171, 1),\n",
       " 'holds': (118, 1),\n",
       " 'hormone': (117, 1),\n",
       " 'in': (297, 17),\n",
       " 'including': (231, 2),\n",
       " 'injury-prone': (184, 1),\n",
       " 'integral': (51, 1),\n",
       " 'international': (54, 1),\n",
       " 'international,': (65, 1),\n",
       " 'is': (244, 2),\n",
       " 'join': (135, 1),\n",
       " 'leading': (12, 1),\n",
       " 'led': (178, 3),\n",
       " 'left-footed': (264, 1),\n",
       " 'level,': (127, 1),\n",
       " 'made': (300, 1),\n",
       " 'making': (129, 1),\n",
       " 'many': (195, 1),\n",
       " 'margins.': (289, 1),\n",
       " 'medal': (113, 1),\n",
       " 'medical': (245, 1),\n",
       " 'most': (218, 3),\n",
       " 'named': (153, 1),\n",
       " 'national': (78, 1),\n",
       " 'next': (285, 1),\n",
       " 'nine': (225, 1),\n",
       " 'of': (121, 7),\n",
       " 'official': (205, 2),\n",
       " 'old,': (241, 1),\n",
       " 'over': (223, 1),\n",
       " 'pay': (160, 1),\n",
       " 'perceived': (109, 1),\n",
       " 'play': (102, 2),\n",
       " 'player': (275, 3),\n",
       " 'playmaker,': (270, 1),\n",
       " 'plays': (14, 1),\n",
       " 'professional': (168, 2),\n",
       " 'progression': (124, 1),\n",
       " 'prolific': (261, 1),\n",
       " 'qualification': (106, 1),\n",
       " 'raised': (141, 1),\n",
       " 'reached': (295, 1),\n",
       " 'record': (260, 2),\n",
       " 'record-tying': (75, 1),\n",
       " 'records': (76, 3),\n",
       " 'regained': (281, 1),\n",
       " 'regarded': (200, 1),\n",
       " 'relocated': (196, 1),\n",
       " 'repeated': (148, 1),\n",
       " 'retirement': (116, 1),\n",
       " 'reversed': (267, 1),\n",
       " 'rival.': (89, 1),\n",
       " 'score': (62, 1),\n",
       " 'scored': (206, 3),\n",
       " 'scorer': (188, 1),\n",
       " 'season': (268, 2),\n",
       " 'season,': (45, 3),\n",
       " 'seasons': (217, 1),\n",
       " 'seasons,': (38, 1),\n",
       " 'second': (20, 2),\n",
       " 'senior': (57, 2),\n",
       " 'set': (221, 1),\n",
       " 'single': (259, 1),\n",
       " 'six': (5, 1),\n",
       " 'spent': (114, 1),\n",
       " \"squad's\": (7, 1),\n",
       " 'statistically': (179, 1),\n",
       " 'style': (296, 1),\n",
       " 'successful': (262, 1),\n",
       " 'successor.': (214, 1),\n",
       " 'team.': (146, 1),\n",
       " 'teenager': (32, 1),\n",
       " 'the': (157, 36),\n",
       " 'those': (164, 1),\n",
       " 'three': (240, 3),\n",
       " 'through': (41, 1),\n",
       " 'time,': (173, 1),\n",
       " 'titles,': (44, 2),\n",
       " 'to': (101, 8),\n",
       " 'top': (292, 1),\n",
       " 'tournament': (249, 1),\n",
       " 'tournament.': (18, 1),\n",
       " 'treatment.': (286, 1),\n",
       " 'treble': (69, 1),\n",
       " 'treble.': (163, 1),\n",
       " 'trophies,': (210, 1),\n",
       " 'twice': (107, 1),\n",
       " 'two': (50, 1),\n",
       " 'uninterrupted': (24, 1),\n",
       " 'unprecedented': (180, 1),\n",
       " 'voting': (255, 1),\n",
       " 'was': (293, 3),\n",
       " 'well': (2, 1),\n",
       " 'where': (93, 2),\n",
       " 'which': (55, 4),\n",
       " 'while': (246, 1),\n",
       " 'who': (128, 3),\n",
       " 'winning': (58, 1),\n",
       " 'with': (88, 5),\n",
       " 'within': (96, 1),\n",
       " 'won': (10, 5),\n",
       " 'world': (87, 1),\n",
       " 'year': (91, 1),\n",
       " 'year.': (72, 1),\n",
       " 'years': (158, 1),\n",
       " 'years,': (253, 1),\n",
       " 'young': (74, 1),\n",
       " 'youngest': (99, 1),\n",
       " 'youth': (48, 2)}"
      ]
     },
     "execution_count": 4,
     "metadata": {},
     "output_type": "execute_result"
    }
   ],
   "source": [
    "vocab = build_vocab(corpus)\n",
    "vocab"
   ]
  },
  {
   "cell_type": "code",
   "execution_count": 5,
   "metadata": {
    "collapsed": false
   },
   "outputs": [],
   "source": [
    "def build_cooccur(vocab, corpus, window_size=10, min_count=None):\n",
    "\n",
    "    vocab_size = len(vocab)\n",
    "    id2word = dict((i, word) for word, (i, _) in vocab.items())\n",
    "\n",
    "    cooccurrences = sparse.lil_matrix((vocab_size, vocab_size), dtype=np.float64)\n",
    "\n",
    "    for i, line in enumerate(corpus):\n",
    "        tokens = line.strip().split()\n",
    "        token_ids = [vocab[word][0] for word in tokens]\n",
    "\n",
    "        for center_i, center_id in enumerate(token_ids):\n",
    "            context_ids = token_ids[max(0, center_i - window_size) : center_i]\n",
    "            contexts_len = len(context_ids)\n",
    "\n",
    "            for left_i, left_id in enumerate(context_ids):\n",
    "                # Distance from center word\n",
    "                distance = contexts_len - left_i\n",
    "\n",
    "                # Weight by inverse of distance between words\n",
    "                increment = 1.0 / float(distance)\n",
    "\n",
    "                # Build co-occurrence matrix symmetrically (pretend we\n",
    "                # are calculating right contexts as well)\n",
    "                cooccurrences[center_id, left_id] += increment\n",
    "                cooccurrences[left_id, center_id] += increment\n",
    "\n",
    "    for i, (row, data) in enumerate(zip(cooccurrences.rows,\n",
    "                                                   cooccurrences.data)):\n",
    "        if min_count is not None and vocab[id2word[i]][1] < min_count:\n",
    "            continue\n",
    "        for data_idx, j in enumerate(row):\n",
    "            if min_count is not None and vocab[id2word[j]][1] < min_count:\n",
    "                continue\n",
    "            \n",
    "            yield i, j, data[data_idx]"
   ]
  },
  {
   "cell_type": "code",
   "execution_count": 6,
   "metadata": {
    "collapsed": false
   },
   "outputs": [],
   "source": [
    "cooccurrences = build_cooccur(vocab, corpus, window_size=10)"
   ]
  },
  {
   "cell_type": "code",
   "execution_count": 7,
   "metadata": {
    "collapsed": false
   },
   "outputs": [],
   "source": [
    "cooccurrences = list(cooccurrences)"
   ]
  },
  {
   "cell_type": "code",
   "execution_count": 8,
   "metadata": {
    "collapsed": true
   },
   "outputs": [],
   "source": [
    "def run_iter(vocab, data, learning_rate=0.05, x_max=100, alpha=0.75):\n",
    "\n",
    "    global_cost = 0\n",
    "\n",
    "    shuffle(data)\n",
    "\n",
    "    for (v_main, v_context, b_main, b_context, gradsq_W_main, gradsq_W_context,\n",
    "         gradsq_b_main, gradsq_b_context, cooccurrence) in data:\n",
    "\n",
    "        weight = (cooccurrence / x_max) ** alpha if cooccurrence < x_max else 1\n",
    "\n",
    "        cost_inner = (v_main.dot(v_context)\n",
    "                      + b_main[0] + b_context[0]\n",
    "                      - log(cooccurrence))\n",
    "\n",
    "        cost = weight * (cost_inner ** 2)\n",
    "\n",
    "        global_cost += 0.5 * cost\n",
    "\n",
    "        grad_main = weight * cost_inner * v_context\n",
    "        grad_context = weight * cost_inner * v_main\n",
    "\n",
    "        grad_bias_main = weight * cost_inner\n",
    "        grad_bias_context = weight * cost_inner\n",
    "\n",
    "        v_main -= (learning_rate * grad_main / np.sqrt(gradsq_W_main))\n",
    "        v_context -= (learning_rate * grad_context / np.sqrt(gradsq_W_context))\n",
    "\n",
    "        b_main -= (learning_rate * grad_bias_main / np.sqrt(gradsq_b_main))\n",
    "        b_context -= (learning_rate * grad_bias_context / np.sqrt(\n",
    "                gradsq_b_context))\n",
    "\n",
    "        gradsq_W_main += np.square(grad_main)\n",
    "        gradsq_W_context += np.square(grad_context)\n",
    "        gradsq_b_main += grad_bias_main ** 2\n",
    "        gradsq_b_context += grad_bias_context ** 2\n",
    "\n",
    "    return global_cost"
   ]
  },
  {
   "cell_type": "code",
   "execution_count": 9,
   "metadata": {
    "collapsed": true
   },
   "outputs": [],
   "source": [
    "def train_glove(vocab, cooccurrences, iter_callback=None, vector_size=100,\n",
    "                iterations=25, **kwargs):\n",
    "\n",
    "    vocab_size = len(vocab)\n",
    "    \n",
    "    W = (np.random.rand(vocab_size * 2, vector_size) - 0.5) / float(vector_size + 1)\n",
    "    \n",
    "    biases = (np.random.rand(vocab_size * 2) - 0.5) / float(vector_size + 1)\n",
    "    \n",
    "    gradient_squared = np.ones((vocab_size * 2, vector_size),\n",
    "                               dtype=np.float64)\n",
    "\n",
    "    gradient_squared_biases = np.ones(vocab_size * 2, dtype=np.float64)\n",
    "\n",
    "    data = [(W[i_main], W[i_context + vocab_size],\n",
    "             biases[i_main : i_main + 1],\n",
    "             biases[i_context + vocab_size : i_context + vocab_size + 1],\n",
    "             gradient_squared[i_main], gradient_squared[i_context + vocab_size],\n",
    "             gradient_squared_biases[i_main : i_main + 1],\n",
    "             gradient_squared_biases[i_context + vocab_size\n",
    "                                     : i_context + vocab_size + 1],\n",
    "             cooccurrence)\n",
    "            for i_main, i_context, cooccurrence in cooccurrences]\n",
    "\n",
    "    for i in range(iterations):\n",
    "        \n",
    "        cost = run_iter(vocab, data, **kwargs)\n",
    "\n",
    "        if iter_callback is not None:\n",
    "            iter_callback(W)\n",
    "\n",
    "    return W"
   ]
  },
  {
   "cell_type": "code",
   "execution_count": 10,
   "metadata": {
    "collapsed": false
   },
   "outputs": [],
   "source": [
    "W = train_glove(vocab, cooccurrences, iter_callback=None, vector_size=100, iterations=25)"
   ]
  },
  {
   "cell_type": "code",
   "execution_count": 11,
   "metadata": {
    "collapsed": false
   },
   "outputs": [
    {
     "data": {
      "text/plain": [
       "array([[-0.00174331, -0.00202208,  0.00224116, ..., -0.00014126,\n",
       "         0.0017908 , -0.00048473],\n",
       "       [ 0.00346717,  0.00432422,  0.00170005, ..., -0.00129644,\n",
       "        -0.00034047, -0.00533263],\n",
       "       [-0.00454626, -0.00425541, -0.00093582, ..., -0.0002238 ,\n",
       "         0.00168117, -0.00041037],\n",
       "       ..., \n",
       "       [ 0.0004233 , -0.00056123,  0.00184646, ..., -0.00323622,\n",
       "         0.00332861, -0.00436428],\n",
       "       [ 0.00419255, -0.00313062,  0.00486614, ...,  0.00175442,\n",
       "        -0.00172273, -0.0031359 ],\n",
       "       [ 0.00152512,  0.00387947, -0.00474032, ...,  0.00484817,\n",
       "         0.00138962, -0.00189429]])"
      ]
     },
     "execution_count": 11,
     "metadata": {},
     "output_type": "execute_result"
    }
   ],
   "source": [
    "W"
   ]
  },
  {
   "cell_type": "code",
   "execution_count": 12,
   "metadata": {
    "collapsed": false
   },
   "outputs": [
    {
     "data": {
      "text/plain": [
       "291"
      ]
     },
     "execution_count": 12,
     "metadata": {},
     "output_type": "execute_result"
    }
   ],
   "source": [
    "word_id = vocab['Messi'][0]\n",
    "word_id"
   ]
  },
  {
   "cell_type": "code",
   "execution_count": 13,
   "metadata": {
    "collapsed": false
   },
   "outputs": [
    {
     "data": {
      "text/plain": [
       "array([  1.53143867e-03,  -4.05531465e-03,   2.62668359e-03,\n",
       "         1.40540565e-03,   2.98461283e-03,  -9.14340022e-04,\n",
       "        -1.45702668e-03,   3.01349874e-03,  -5.84766685e-04,\n",
       "         2.45906174e-03,  -4.25753364e-03,  -2.56073435e-03,\n",
       "         3.70762524e-03,  -8.82605012e-05,   4.89934416e-03,\n",
       "        -1.49701597e-03,   3.41278977e-03,  -2.14633085e-03,\n",
       "        -5.41918823e-03,  -4.22329071e-03,  -3.12668031e-03,\n",
       "        -1.99793460e-03,   3.17743544e-03,  -4.19791786e-03,\n",
       "         2.99864179e-03,  -1.38905189e-03,   9.86775894e-04,\n",
       "         3.23955676e-03,  -2.06914702e-03,  -2.40360225e-03,\n",
       "         4.13759959e-03,  -4.44583605e-03,   1.68440985e-03,\n",
       "        -2.08161314e-03,  -4.23370040e-03,  -4.90794437e-03,\n",
       "        -5.10610606e-03,   4.05988820e-03,  -4.33352128e-03,\n",
       "        -2.41028063e-03,   4.24122072e-03,   7.29785589e-04,\n",
       "         1.37778987e-03,  -3.48164208e-03,   1.09220795e-03,\n",
       "        -5.36955411e-03,  -2.71217744e-03,   1.76386189e-03,\n",
       "         2.71609147e-03,   7.34385276e-05,  -1.28229773e-03,\n",
       "         8.74722054e-05,   2.96371599e-04,  -3.72582458e-03,\n",
       "        -2.11717358e-03,  -2.33919462e-03,  -4.06138481e-03,\n",
       "         3.09973421e-03,   6.58964625e-04,  -4.23447794e-03,\n",
       "        -3.82971892e-03,  -3.93711568e-03,   2.56706987e-03,\n",
       "         4.36126163e-03,  -2.92995264e-03,  -3.53593695e-03,\n",
       "         8.81922891e-04,   1.78898278e-03,  -4.06270496e-04,\n",
       "        -4.59794270e-03,   1.78336362e-03,   2.80654871e-03,\n",
       "        -9.94985135e-04,  -1.93831411e-04,  -4.68505031e-03,\n",
       "        -4.08015230e-03,   3.25005328e-03,   2.60534394e-03,\n",
       "         5.18408481e-03,  -9.51181455e-05,   5.85606032e-04,\n",
       "        -4.80502192e-03,  -3.37888421e-03,   7.85744984e-04,\n",
       "        -4.06167508e-03,   6.85708088e-04,  -2.84027606e-04,\n",
       "        -1.87428612e-03,   2.56941915e-03,   2.49663970e-03,\n",
       "        -1.38729986e-03,   8.51738509e-04,  -3.23376796e-03,\n",
       "        -4.29814316e-03,  -3.97198585e-03,   3.91902443e-03,\n",
       "         2.17256375e-03,   4.02372612e-03,   2.92411263e-03,\n",
       "         6.41598289e-04])"
      ]
     },
     "execution_count": 13,
     "metadata": {},
     "output_type": "execute_result"
    }
   ],
   "source": [
    "Messi = W[word_id]\n",
    "Messi"
   ]
  },
  {
   "cell_type": "code",
   "execution_count": 14,
   "metadata": {
    "collapsed": false
   },
   "outputs": [],
   "source": [
    "Argentina = W[vocab['Argentina'][0]]"
   ]
  },
  {
   "cell_type": "code",
   "execution_count": 15,
   "metadata": {
    "collapsed": false
   },
   "outputs": [
    {
     "data": {
      "text/plain": [
       "1.0119882272834955"
      ]
     },
     "execution_count": 15,
     "metadata": {},
     "output_type": "execute_result"
    }
   ],
   "source": [
    "from scipy.spatial import distance\n",
    "distance.cosine(Messi, Argentina)"
   ]
  },
  {
   "cell_type": "code",
   "execution_count": 16,
   "metadata": {
    "collapsed": false
   },
   "outputs": [
    {
     "data": {
      "text/plain": [
       "1.0047551191138608"
      ]
     },
     "execution_count": 16,
     "metadata": {},
     "output_type": "execute_result"
    }
   ],
   "source": [
    "from scipy.spatial import distance\n",
    "distance.cosine(W[vocab['Argentina'][0]], W[vocab['Spain'][0]])"
   ]
  },
  {
   "cell_type": "code",
   "execution_count": 17,
   "metadata": {
    "collapsed": false
   },
   "outputs": [
    {
     "data": {
      "text/plain": [
       "0.99939439877061775"
      ]
     },
     "execution_count": 17,
     "metadata": {},
     "output_type": "execute_result"
    }
   ],
   "source": [
    "from scipy.spatial import distance\n",
    "distance.cosine(W[vocab['Lionel'][0]], W[vocab['FIFA'][0]])"
   ]
  },
  {
   "cell_type": "code",
   "execution_count": null,
   "metadata": {
    "collapsed": true
   },
   "outputs": [],
   "source": []
  }
 ],
 "metadata": {
  "anaconda-cloud": {},
  "kernelspec": {
   "display_name": "Python [conda env:acadgild]",
   "language": "python",
   "name": "conda-env-acadgild-py"
  },
  "language_info": {
   "codemirror_mode": {
    "name": "ipython",
    "version": 3
   },
   "file_extension": ".py",
   "mimetype": "text/x-python",
   "name": "python",
   "nbconvert_exporter": "python",
   "pygments_lexer": "ipython3",
   "version": "3.5.4"
  }
 },
 "nbformat": 4,
 "nbformat_minor": 2
}
